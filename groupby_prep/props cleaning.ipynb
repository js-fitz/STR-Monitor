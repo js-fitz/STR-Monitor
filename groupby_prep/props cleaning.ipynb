{
 "cells": [
  {
   "cell_type": "code",
   "execution_count": 1,
   "metadata": {},
   "outputs": [],
   "source": [
    "import pandas as pd"
   ]
  },
  {
   "cell_type": "code",
   "execution_count": 2,
   "metadata": {},
   "outputs": [],
   "source": [
    "props = pd.read_csv('../data/census_neighborhood_groups/props.csv', low_memory=0)"
   ]
  },
  {
   "cell_type": "code",
   "execution_count": 3,
   "metadata": {},
   "outputs": [
    {
     "data": {
      "text/plain": [
       "Index(['PID', 'CM_ID', 'GIS_ID', 'ST_NUM', 'ST_NAME', 'ST_NAME_SUF',\n",
       "       'UNIT_NUM', 'ZIPCODE', 'PTYPE', 'LU', 'OWN_OCC', 'OWNER',\n",
       "       'MAIL_ADDRESSEE', 'MAIL_ADDRESS', 'MAIL.CS', 'MAIL_ZIPCODE', 'AV_LAND',\n",
       "       'AV_BLDG', 'AV_TOTAL', 'GROSS_TAX', 'LAND_SF', 'YR_BUILT', 'YR_REMOD',\n",
       "       'GROSS_AREA', 'NUM_FLOORS', 'STRUCTURE_CLASS', 'R_BLDG_STYL',\n",
       "       'R_ROOF_TYP', 'R_EXT_FIN', 'R_TOTAL_RMS', 'R_BDRMS', 'R_FULL_BTH',\n",
       "       'R_HALF_BTH', 'R_BTH_STYLE', 'R_BTH_STYLE2', 'R_BTH_STYLE3', 'R_KITCH',\n",
       "       'R_KITCH_STYLE', 'R_KITCH_STYLE2', 'R_KITCH_STYLE3', 'R_HEAT_TYP',\n",
       "       'R_AC', 'R_FPLACE', 'R_EXT_CND', 'R_OVRALL_CND', 'R_INT_CND',\n",
       "       'R_INT_FIN', 'R_VIEW', 'S_NUM_BLDG', 'S_BLDG_STYL', 'S_UNIT_RES',\n",
       "       'S_UNIT_COM', 'S_UNIT_RC', 'S_EXT_FIN', 'S_EXT_CND', 'U_BASE_FLOOR',\n",
       "       'U_NUM_PARK', 'U_CORNER', 'U_ORIENT', 'U_TOT_RMS', 'U_BDRMS',\n",
       "       'U_FULL_BTH', 'U_HALF_BTH', 'U_BTH_STYLE', 'U_BTH_STYLE2',\n",
       "       'U_BTH_STYLE3', 'U_KITCH_TYPE', 'U_KITCH_STYLE', 'U_HEAT_TYP', 'U_AC',\n",
       "       'U_FPLACE', 'U_INT_FIN', 'U_INT_CND', 'U_VIEW', 'LIVING_AREA',\n",
       "       'AV_BLDG_PER_SF', 'AV_LAND_PER_SF', 'SIMPLIFIED_LU', 'COOL_SCORE',\n",
       "       'AGE_SCORE', 'HEAT_SCORE', 'EE_SCORE', 'BLDG_AGE', 'X', 'Y',\n",
       "       'Land_Parcel_ID', 'TLID', 'Blk_ID_10', 'BG_ID_10', 'CT_ID_10', 'unit_N',\n",
       "       'unit_N_orig', 'GROSS_AREA_org', 'LIVING_AREA_org', 'CT_name10',\n",
       "       'geometry', 'neighborhood'],\n",
       "      dtype='object')"
      ]
     },
     "execution_count": 3,
     "metadata": {},
     "output_type": "execute_result"
    }
   ],
   "source": [
    "props.columns"
   ]
  },
  {
   "cell_type": "code",
   "execution_count": 4,
   "metadata": {},
   "outputs": [],
   "source": [
    "# dummies:\n",
    "LU_holder = props.LU\n",
    "props = pd.get_dummies(props, columns=['LU'])\n",
    "props['LU'] = LU_holder"
   ]
  },
  {
   "cell_type": "code",
   "execution_count": 5,
   "metadata": {},
   "outputs": [
    {
     "name": "stdout",
     "output_type": "stream",
     "text": [
      "encoded OWN_OCC\n",
      "encoded U_CORNER\n"
     ]
    }
   ],
   "source": [
    "# N/Y > 0/1 in SAM columns:\n",
    "for c in props.columns:\n",
    "    vcounts = props[c].value_counts()\n",
    "    if len(vcounts)==2 and 'Y' in vcounts.index: # where Y/N\n",
    "        props[c] = props[c].map({'Y':1, 'N':0})\n",
    "        print('encoded',c)"
   ]
  },
  {
   "cell_type": "code",
   "execution_count": 12,
   "metadata": {},
   "outputs": [],
   "source": [
    "props.to_csv('props_clean.csv',index=False)"
   ]
  },
  {
   "cell_type": "code",
   "execution_count": null,
   "metadata": {},
   "outputs": [],
   "source": []
  }
 ],
 "metadata": {
  "kernelspec": {
   "display_name": "Python 3",
   "language": "python",
   "name": "python3"
  },
  "language_info": {
   "codemirror_mode": {
    "name": "ipython",
    "version": 3
   },
   "file_extension": ".py",
   "mimetype": "text/x-python",
   "name": "python",
   "nbconvert_exporter": "python",
   "pygments_lexer": "ipython3",
   "version": "3.7.5"
  }
 },
 "nbformat": 4,
 "nbformat_minor": 2
}
