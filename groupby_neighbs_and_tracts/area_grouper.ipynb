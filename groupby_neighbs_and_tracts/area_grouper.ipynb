{
 "cells": [
  {
   "cell_type": "code",
   "execution_count": 67,
   "metadata": {},
   "outputs": [],
   "source": [
    "import pandas as pd"
   ]
  },
  {
   "cell_type": "code",
   "execution_count": 68,
   "metadata": {},
   "outputs": [],
   "source": [
    "props = pd.read_csv('../groupby_prep/props_clean.csv', low_memory=0)\n",
    "props.drop_duplicates(subset='PID', inplace=True)\n",
    "props['Land Use Pct. Agri./Comm./Indust.'] = props['SIMPLIFIED_LU_AGRICULTURAL']+props['SIMPLIFIED_LU_COMMERCIAL']+props['SIMPLIFIED_LU_INDUSTRIAL']\n",
    "props['Land Use Pct. Condo/Residential'] = props['SIMPLIFIED_LU_CONDO']+props['SIMPLIFIED_LU_CONDO_UNIT']+props['SIMPLIFIED_LU_RESIDENTIAL']\n",
    "props['Land Use Pct. Tax Exempt/TE-BPDA'] = props['SIMPLIFIED_LU_TAX_EXEMPT']+props['SIMPLIFIED_LU_TAX_EXEMPT_BRA']\n",
    "props['Land Use Pct. Comm+Resid. Mixed'] = +props['SIMPLIFIED_LU_MIX_RC']\n",
    "\n",
    "def props_groupby(group_area): \n",
    "    out = props.groupby(group_area).count()[['PID']]\n",
    "    out = out.rename(columns={'PID':'Count Parcels'})\n",
    "# groupby sum:\n",
    "    for gb in ['unit_N', 'LIVING_AREA_org']: \n",
    "        out = pd.concat([out, props.groupby(group_area).sum()[gb]], axis=1, sort=False)\n",
    "    out = out.rename(columns={'unit_N':'Number Units', 'LIVING_AREA_org':'total_living_area',})\n",
    "# calc avg liv area / unit\n",
    "    out['Avg Living Area / Unit'] = round(out['total_living_area'] / out['Count Units'])\n",
    "    out.drop(columns=['total_living_area'], inplace=True) \n",
    "# groupby mean:\n",
    "    landuse_dummies = [c for c in props.columns if 'Perc' in c]\n",
    "    for gb in ['BLDG_AGE', 'OWN_OCC'] + landuse_dummies:\n",
    "        out = pd.concat([out, props.groupby(group_area).mean()[gb]], axis=1, sort=False)\n",
    "    out = out.rename(columns={'BLDG_AGE':'Avg Building Age', 'OWN_OCC':'Pct. units owner-occupied' })\n",
    "    out = out.rename(columns={c: c.replace('landuse_','') for c in landuse_dummies})\n",
    "    out.reset_index(inplace=True)\n",
    "    out.rename(columns={'CT_name10': 'Census Tract (2010)',\n",
    "                         'neighborhood': 'Neighborhood'}, inplace=True)\n",
    "    out.rename(columns={c:'pro_'+c for c in out.columns}, inplace=True)\n",
    "    return out"
   ]
  },
  {
   "cell_type": "code",
   "execution_count": 69,
   "metadata": {},
   "outputs": [],
   "source": [
    "stre = pd.read_csv('../groupby_prep/stre_clean.csv', low_memory=0)\n",
    "\n",
    "def stre_groupby(group_area):\n",
    "    sum_groupby = [c for c in stre.columns if 'APP_Stat' in c] + ['PSD_open violation count',\n",
    "                   'PSD_violations in the last 6 months']\n",
    "    out = pd.DataFrame()\n",
    "    for gb in sum_groupby:\n",
    "        out = pd.concat([out, stre.groupby(group_area).sum()[gb]], axis=1, sort=False)\n",
    "    out.index.name = group_area\n",
    "    out.rename(columns={'PSD_violations in the last 6 months':\n",
    "                        'Count violations/past 6 mos.'}, inplace=True)\n",
    "    for c in out.columns:\n",
    "        if 'APP' in c:\n",
    "            out.rename(columns={c:': '.join(c.split('_')[-2:])+(' (count)') },\n",
    "                       inplace=True)\n",
    "    out.rename(columns={'PSD_open violation count':\n",
    "                        'Count open violations'}, inplace=True)\n",
    "    out.reset_index(inplace=True)\n",
    "    out.rename(columns={'CT_name10': 'Census Tract (2010)',\n",
    "                         'neighborhood': 'Neighborhood'}, inplace=True)\n",
    "    out.rename(columns={c:'str_'+c for c in out.columns}, inplace=True)\n",
    "    return out"
   ]
  },
  {
   "cell_type": "code",
   "execution_count": 70,
   "metadata": {},
   "outputs": [],
   "source": [
    "airbnb = pd.read_csv('../groupby_prep/airbnb_clean.csv', low_memory=0)\n",
    "def airbnb_groupby(group_area):\n",
    "    out = pd.DataFrame()\n",
    "    count_groupby = [ 'id' ]\n",
    "    for gb in count_groupby:\n",
    "        out = pd.concat([out, airbnb.groupby(['last_scraped', group_area]).count()[[gb]]\n",
    "                        ], axis=1, sort=False)\n",
    "        out = out.rename(columns={gb:'Count Listings'})\n",
    "    sum_groupby = ['number_of_reviews', 'accommodates', 'has_license', 'exempt_license']\n",
    "    for gb in sum_groupby:\n",
    "        out = pd.concat([out, airbnb.groupby(['last_scraped', group_area]).sum()[[gb]]\n",
    "                        ], axis=1, sort=False)\n",
    "    out = out.rename(columns={'has_license': 'Count Licensed',\n",
    "                              'exempt_license': 'Count Exempt',\n",
    "                              'number_of_reviews': 'Count Reviews',\n",
    "                              'accommodates':'Sum Accomodations'})\n",
    "    out['Pct. Licensed'] = out['Count Licensed'] / out['Count Listings']\n",
    "    out['Pct. License Exempt'] = out['Count Exempt'] / out['Count Listings']\n",
    "    out['Avg. Reviews/Listing'] = out['Count Reviews'] / out['Count Listings']\n",
    "    out.drop(columns=['Count Reviews'], inplace=True)\n",
    "    \n",
    "    out = pd.concat([out, round(airbnb.groupby(['last_scraped', group_area]).nunique()['host_id'], 2)], axis=1, sort=False)\n",
    "    out = out.rename(columns={'host_id':'Unique Hosts (count)'})\n",
    "    \n",
    "    \n",
    "    median_groupby = ['host_distance_km', 'price' ]\n",
    "    for gb in median_groupby:\n",
    "        out = pd.concat([out, airbnb.groupby(['last_scraped', group_area]).median()[gb]], axis=1, sort=False)\n",
    "    out = out.rename(columns={'host_distance_km':'Med. Host Distance (km.)'})\n",
    "    out = out.rename(columns={'price':'Med. Price'})\n",
    "\n",
    "    \n",
    "    mean_groupby = ['price', 'availability_30']\n",
    "    for gb in mean_groupby:\n",
    "        out = pd.concat([out, round(airbnb.groupby(['last_scraped', group_area]).mean()[gb], 2)], axis=1, sort=False)\n",
    "    out = out.rename(columns={'price':'Avg. Price'})\n",
    "    out.reset_index(inplace=True)\n",
    "    out.rename(columns={'availability_30':'Avg. Avlblty / Next 30d',\n",
    "                        'last_scraped':'scraped'}, inplace=True)\n",
    "    out.scraped = pd.to_datetime(out.scraped)\n",
    "    out.rename(columns={'CT_name10': 'Census Tract (2010)',\n",
    "                         'neighborhood': 'Neighborhood'}, inplace=True)\n",
    "    out.rename(columns={c:'air_'+c for c in out.columns}, inplace=True)\n",
    "    return out"
   ]
  },
  {
   "cell_type": "code",
   "execution_count": 71,
   "metadata": {},
   "outputs": [],
   "source": [
    "padm = pd.read_csv('../groupby_prep/padmapper_clean.csv', low_memory=0)\n",
    "def padm_groupby(group_area):\n",
    "    out = pd.DataFrame()\n",
    "    out = pd.concat([out,\n",
    "                     padm.groupby(['scraped', group_area]).nunique()[\n",
    "                         ['id']\n",
    "                     ]], axis=1, sort=False)\n",
    "    out = out.rename(columns={'id':'Count Listings'})\n",
    "    out = pd.concat([out,\n",
    "                     padm.groupby(['scraped', group_area]).median()[\n",
    "                         ['price']\n",
    "                     ]], axis=1, sort=False)\n",
    "    out = out.rename(columns={'price':'Med. Price/mo.'})\n",
    "    out = pd.concat([out,\n",
    "                     padm.groupby(['scraped', group_area]).mean()[\n",
    "                         ['price', 'beds']\n",
    "                     ]], axis=1, sort=False)\n",
    "    out = out.rename(columns={'price':'Avg. Price/mo.', 'beds':'Avg. Beds'})\n",
    "    out['Med. Price/mo./Bed'] = out['Med. Price/mo.']/out['Avg. Beds']\n",
    "    out['Avg. Price/mo./Bed'] = out['Avg. Price/mo.']/out['Avg. Beds']\n",
    "    out.reset_index(inplace=True)\n",
    "    out.scraped = pd.to_datetime(out.scraped)\n",
    "    out.rename(columns={'CT_name10': 'Census Tract (2010)',\n",
    "                         'neighborhood': 'Neighborhood'}, inplace=True)\n",
    "    out.rename(columns={c:'pad_'+c for c in out.columns}, inplace=True)\n",
    "    return out"
   ]
  },
  {
   "cell_type": "markdown",
   "metadata": {},
   "source": [
    "# do it"
   ]
  },
  {
   "cell_type": "markdown",
   "metadata": {},
   "source": [
    "wait a bit between cells to avoid crashing."
   ]
  },
  {
   "cell_type": "code",
   "execution_count": 78,
   "metadata": {},
   "outputs": [],
   "source": [
    "group_area = 'neighborhood'"
   ]
  },
  {
   "cell_type": "code",
   "execution_count": 79,
   "metadata": {},
   "outputs": [],
   "source": [
    "bari_data = props_groupby(group_area)"
   ]
  },
  {
   "cell_type": "code",
   "execution_count": 80,
   "metadata": {},
   "outputs": [],
   "source": [
    "air_data = airbnb_groupby(group_area)"
   ]
  },
  {
   "cell_type": "code",
   "execution_count": 81,
   "metadata": {},
   "outputs": [],
   "source": [
    "str_data = stre_groupby(group_area) "
   ]
  },
  {
   "cell_type": "code",
   "execution_count": 82,
   "metadata": {},
   "outputs": [],
   "source": [
    "pad_data = padm_groupby(group_area)"
   ]
  },
  {
   "cell_type": "code",
   "execution_count": 83,
   "metadata": {},
   "outputs": [],
   "source": [
    "if 'C' in group_area: path='c_grouped'\n",
    "if 'g' in group_area: path='n_grouped'\n",
    "\n",
    "for name, data in {'air': air_data,\n",
    "                   'str':str_data,\n",
    "                   'pro':bari_data,\n",
    "                   'pad':pad_data}.items():\n",
    "    for c in data.columns:\n",
    "        if 'Pct' in c: data[c] = round(data[c]*100, 2)\n",
    "    data = round(data, 2)\n",
    "    data.to_csv(f'{path}/{name}.csv', index=False)"
   ]
  },
  {
   "cell_type": "code",
   "execution_count": null,
   "metadata": {},
   "outputs": [],
   "source": []
  },
  {
   "cell_type": "code",
   "execution_count": 28,
   "metadata": {},
   "outputs": [],
   "source": [
    "features_dict = {'air_Count Listings': 'Total number of unique Airbnb listings',\n",
    " 'air_Sum Accodomations': 'Sum total of accomodations (guests) of Airbnb listings',\n",
    " 'air_Count Licensed': 'Total number of Airbnb listings with an STR license claimed on airbnb.com',\n",
    " 'air_Count Exempt': 'Total number of Airbnb listings with an STR Exemption claimed on airbnb.com',\n",
    " 'air_Perc. Licensed':  'Percentage of Airbnb listings with an STR License',\n",
    " 'air_Perc. License Exempt':  'Percentage of Airbnb listings with an STR License exemption',\n",
    " 'air_Avg. Reviews/Listing':  'Average number of reviews (all-time) per Airbnb listing',\n",
    " 'air_Unique Hosts (count)': 'Total number of Airbnb hosts',\n",
    " 'air_Med. Host Distance (km.)': 'Median distance between Airbnb listings and their hosts (approximated within 5km)',\n",
    " 'air_Med. Price': 'Median price per night of Airbnb listings ($)',\n",
    " 'air_Avg. Price': 'Average price per night of Airbnb listings ($)',\n",
    " 'air_Avg. Avlblty / Next 30d': 'Average availability (number of days not booked) per Airbnb listing over the next 30 days',\n",
    " \n",
    " 'pad_Med. Price/mo.': 'Median price per month of rental listings',\n",
    " 'pad_Avg. Price/mo.': 'Average price per month of rental listings',\n",
    " 'pad_Avg. Beds': 'Average number of bedrooms per listing',\n",
    " 'pad_Med. Price/mo./Bed': 'Median price per month per bedroom',\n",
    " 'pad_Avg. Price/mo./Bed': 'Average price per month per bedroom',\n",
    " 'pro_Count Parcels': 'Total number of unique Parcel Ids or properties in an area',\n",
    " 'pro_Count Units':  'Total number of units in (all zoning types)',\n",
    " 'pro_Avg Living Area / Unit': 'Average living area per unit (total number of units divided by total Living Area)',\n",
    " 'pro_Avg Building Age': 'Average age of buildings (years)',\n",
    " 'pro_Perc. units owner-occupied': 'Percentage of units that are owner-occupied',\n",
    " 'pro_LandUsePerc. Agri./Comm./Indust.': 'Percentage of units zoned Agricultural, Commercial or Industrial',\n",
    " 'pro_LandUsePerc. Condo/Res./C.R.Mix': 'Percentage of units zoned Condo, Complex, Residential or C/R Mixed',\n",
    " 'pro_LandUsePerc. Tax Exempt/TE-BPDA': 'Percentage of units zoned Tax-Exempt or Tax-Exempt through the BPDA',\n",
    " 'str_Status: Active (count)': 'Total number of Active STR-registered units',\n",
    " 'str_Status: Expired (count)': 'Total number of Expired STR registrations',\n",
    " 'str_Status: Inactive (count)': 'Total number of Inactive STR registrations',\n",
    " 'str_Status: Revoked (count)': 'Total number of Revoked STR registrations',\n",
    " 'str_Status: Void (count)': 'Total number of Voided STR registrations',\n",
    " 'str_Count open violations': 'Total count of open violations. From data.boston.gov: \"Violations counted include: violations of the sanitary, building, zoning, and fire code; stop work orders; and abatement orders.\"',\n",
    " 'str_Count violations/past 6 mos.': 'Total count of violations in the past 6 months. From data.boston.gov: \"Violations counted include: violations of the sanitary, building, zoning, and fire code; stop work orders; and abatement orders.\"',\n",
    "}"
   ]
  },
  {
   "cell_type": "code",
   "execution_count": null,
   "metadata": {},
   "outputs": [],
   "source": []
  }
 ],
 "metadata": {
  "kernelspec": {
   "display_name": "Python 3",
   "language": "python",
   "name": "python3"
  },
  "language_info": {
   "codemirror_mode": {
    "name": "ipython",
    "version": 3
   },
   "file_extension": ".py",
   "mimetype": "text/x-python",
   "name": "python",
   "nbconvert_exporter": "python",
   "pygments_lexer": "ipython3",
   "version": "3.7.5"
  }
 },
 "nbformat": 4,
 "nbformat_minor": 2
}
