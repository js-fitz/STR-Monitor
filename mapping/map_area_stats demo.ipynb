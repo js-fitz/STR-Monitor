{
 "cells": [
  {
   "cell_type": "code",
   "execution_count": 1,
   "metadata": {},
   "outputs": [],
   "source": [
    "from area_stats_map import map_latest_data"
   ]
  },
  {
   "cell_type": "markdown",
   "metadata": {},
   "source": [
    "### Airbnb data\n",
    "From insideairbnb.com | scraped February 2020"
   ]
  },
  {
   "cell_type": "code",
   "execution_count": 3,
   "metadata": {},
   "outputs": [
    {
     "name": "stdout",
     "output_type": "stream",
     "text": [
      "\n",
      "__param opts:__\n",
      " ['cartodb_id', 'count_listings', 'sum_has_license', 'sum_accommodates', 'sum_number_of_reviews', 'calc_percent_licensed', 'calc_reviews_per_listing', 'median_host_distance_km', 'median_price', 'avg_price', 'avg_availability_30', 'avg_calculated_host_listings_count']\n"
     ]
    }
   ],
   "source": [
    "# median price by neighborhood\n",
    "m = map_latest_data('n_AIRBNB', 'median_price', show_opts=True)"
   ]
  },
  {
   "cell_type": "code",
   "execution_count": 4,
   "metadata": {},
   "outputs": [],
   "source": [
    "m.save('n_air_medprice.html')"
   ]
  },
  {
   "cell_type": "code",
   "execution_count": null,
   "metadata": {},
   "outputs": [],
   "source": [
    "# calc. percent licensed by neighborhood (license not NA)\n",
    "map_latest_data('n_AIRBNB', 'calc_percent_licensed')"
   ]
  },
  {
   "cell_type": "code",
   "execution_count": null,
   "metadata": {},
   "outputs": [],
   "source": [
    "# calc. median host distance by nkm.\n",
    "map_latest_data('c_AIRBNB', 'median_host_distance_km')"
   ]
  },
  {
   "cell_type": "code",
   "execution_count": null,
   "metadata": {},
   "outputs": [],
   "source": []
  }
 ],
 "metadata": {
  "kernelspec": {
   "display_name": "Python 3",
   "language": "python",
   "name": "python3"
  },
  "language_info": {
   "codemirror_mode": {
    "name": "ipython",
    "version": 3
   },
   "file_extension": ".py",
   "mimetype": "text/x-python",
   "name": "python",
   "nbconvert_exporter": "python",
   "pygments_lexer": "ipython3",
   "version": "3.7.5"
  }
 },
 "nbformat": 4,
 "nbformat_minor": 2
}
